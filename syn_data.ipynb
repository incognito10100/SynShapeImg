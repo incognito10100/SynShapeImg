{
 "cells": [
  {
   "cell_type": "markdown",
   "id": "cdf485f1-8bb4-4df5-93fe-66602f01a553",
   "metadata": {},
   "source": [
    "# Import Libraries"
   ]
  },
  {
   "cell_type": "code",
   "execution_count": 1,
   "id": "6af386fd-22a0-4a65-815b-008c35fe7349",
   "metadata": {},
   "outputs": [],
   "source": [
    "import os\n",
    "import numpy as np\n",
    "import cv2\n",
    "import pandas as pd\n"
   ]
  },
  {
   "cell_type": "markdown",
   "id": "ff7eb9ad-d19d-49c1-9210-e04c0ac23aa5",
   "metadata": {},
   "source": [
    "# Define Parameters"
   ]
  },
  {
   "cell_type": "code",
   "execution_count": 3,
   "id": "0a252d3c-f76c-4dbf-afb1-640ab3a378b0",
   "metadata": {},
   "outputs": [],
   "source": [
    "# Parameters\n",
    "output_dir = 'C:/Users/umer5/Documents/project1/shapes_dataset'\n",
    "image_size = (100, 100)  # Size of the images\n",
    "num_samples_per_class = 100  # Number of samples per shape type\n",
    "\n",
    "# Define the shape types and their corresponding folder names\n",
    "shape_types = ['circle', 'square', 'triangle']\n",
    "shape_colors = [(255, 255, 255)]  # White color for shapes\n"
   ]
  },
  {
   "cell_type": "markdown",
   "id": "e38f094b-7684-4b2d-beaa-baf062b81770",
   "metadata": {},
   "source": [
    "# Create Shape Image Function"
   ]
  },
  {
   "cell_type": "code",
   "execution_count": 4,
   "id": "78833e28-66ad-4e5f-be18-db51c5603f09",
   "metadata": {},
   "outputs": [],
   "source": [
    "def create_shape_image(shape_type, size, color):\n",
    "    image = np.zeros((size[0], size[1], 3), dtype=np.uint8)\n",
    "    if shape_type == 'circle':\n",
    "        center = (size[1] // 2, size[0] // 2)\n",
    "        radius = min(size) // 4\n",
    "        cv2.circle(image, center, radius, color, -1)\n",
    "    elif shape_type == 'square':\n",
    "        top_left = (size[1] // 4, size[0] // 4)\n",
    "        bottom_right = (3 * size[1] // 4, 3 * size[0] // 4)\n",
    "        cv2.rectangle(image, top_left, bottom_right, color, -1)\n",
    "    elif shape_type == 'triangle':\n",
    "        points = np.array([[size[1] // 2, size[0] // 4],\n",
    "                           [size[1] // 4, 3 * size[0] // 4],\n",
    "                           [3 * size[1] // 4, 3 * size[0] // 4]], np.int32)\n",
    "        points = points.reshape((-1, 1, 2))\n",
    "        cv2.fillPoly(image, [points], color)\n",
    "    return image\n"
   ]
  },
  {
   "cell_type": "markdown",
   "id": "b3928df5-2c11-4c3c-8c3e-efaef1570b8e",
   "metadata": {},
   "source": [
    "# Saving Images"
   ]
  },
  {
   "cell_type": "code",
   "execution_count": 5,
   "id": "5b0db17b-70f7-4bed-a23a-d50cfe5e0468",
   "metadata": {},
   "outputs": [],
   "source": [
    "def save_images_for_shape(shape_type, num_samples, output_path):\n",
    "    os.makedirs(output_path, exist_ok=True)\n",
    "    for i in range(num_samples):\n",
    "        img = create_shape_image(shape_type, image_size, shape_colors[0])\n",
    "        img_filename = os.path.join(output_path, f'{shape_type}_{i:04d}.png')\n",
    "        cv2.imwrite(img_filename, img)\n"
   ]
  },
  {
   "cell_type": "markdown",
   "id": "7923986e-679e-425b-bc60-b0768d459d19",
   "metadata": {},
   "source": [
    "# Main Function for generating Shape Images"
   ]
  },
  {
   "cell_type": "code",
   "execution_count": 6,
   "id": "95af3b2f-b88c-46bc-9013-ca29e448eef3",
   "metadata": {},
   "outputs": [],
   "source": [
    "def main():\n",
    "    for shape_type in shape_types:\n",
    "        shape_folder = os.path.join(output_dir, shape_type)\n",
    "        save_images_for_shape(shape_type, num_samples_per_class, shape_folder)\n",
    "\n",
    "if __name__ == '__main__':\n",
    "    main()\n"
   ]
  },
  {
   "cell_type": "markdown",
   "id": "8a3be9db-719b-498d-bcfa-52a46c33d7d0",
   "metadata": {},
   "source": [
    "# Create Labels CSV"
   ]
  },
  {
   "cell_type": "code",
   "execution_count": 7,
   "id": "1e45b3c1-0f6f-4057-8a42-ce40743afdfd",
   "metadata": {},
   "outputs": [],
   "source": [
    "def create_labels_csv(output_dir, shape_types, num_samples_per_class):\n",
    "    rows = []\n",
    "    for shape_type in shape_types:\n",
    "        shape_folder = os.path.join(output_dir, shape_type)\n",
    "        for i in range(num_samples_per_class):\n",
    "            filename = f'{shape_type}_{i:04d}.png'\n",
    "            filepath = os.path.join(shape_folder, filename)\n",
    "            rows.append([filepath, shape_type])\n",
    "    \n",
    "    df = pd.DataFrame(rows, columns=['filename', 'label'])\n",
    "    csv_filename = os.path.join(output_dir, 'labels.csv')\n",
    "    df.to_csv(csv_filename, index=False)\n",
    "\n",
    "# Run this function after generating shapes\n",
    "create_labels_csv(output_dir, shape_types, num_samples_per_class)\n"
   ]
  },
  {
   "cell_type": "code",
   "execution_count": null,
   "id": "367f2aba-3437-4055-9c18-2ca16254ed68",
   "metadata": {},
   "outputs": [],
   "source": []
  }
 ],
 "metadata": {
  "kernelspec": {
   "display_name": "Python 3 (ipykernel)",
   "language": "python",
   "name": "python3"
  },
  "language_info": {
   "codemirror_mode": {
    "name": "ipython",
    "version": 3
   },
   "file_extension": ".py",
   "mimetype": "text/x-python",
   "name": "python",
   "nbconvert_exporter": "python",
   "pygments_lexer": "ipython3",
   "version": "3.12.3"
  }
 },
 "nbformat": 4,
 "nbformat_minor": 5
}
